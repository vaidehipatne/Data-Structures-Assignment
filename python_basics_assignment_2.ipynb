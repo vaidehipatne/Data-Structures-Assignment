{
 "cells": [
  {
   "cell_type": "markdown",
   "metadata": {},
   "source": [
    "1. Write a Python program to print \"Hello, World!."
   ]
  },
  {
   "cell_type": "code",
   "execution_count": 1,
   "metadata": {},
   "outputs": [
    {
     "name": "stdout",
     "output_type": "stream",
     "text": [
      "Hello World\n"
     ]
    }
   ],
   "source": [
    "print(\"Hello World\")"
   ]
  },
  {
   "cell_type": "markdown",
   "metadata": {},
   "source": [
    "2. Write a Python program that displays your name and age."
   ]
  },
  {
   "cell_type": "code",
   "execution_count": 3,
   "metadata": {},
   "outputs": [
    {
     "name": "stdout",
     "output_type": "stream",
     "text": [
      "{'Name': 'Vaidehi', 'Age': 31}\n"
     ]
    }
   ],
   "source": [
    "mydetails = {'Name': 'Vaidehi', 'Age': 31}\n",
    "print(mydetails)"
   ]
  },
  {
   "cell_type": "markdown",
   "metadata": {},
   "source": [
    "3. Write code to print all the pre-defined keywords in Python using the keyword library"
   ]
  },
  {
   "cell_type": "code",
   "execution_count": 5,
   "metadata": {},
   "outputs": [
    {
     "name": "stdout",
     "output_type": "stream",
     "text": [
      "['False', 'None', 'True', 'and', 'as', 'assert', 'async', 'await', 'break', 'class', 'continue', 'def', 'del', 'elif', 'else', 'except', 'finally', 'for', 'from', 'global', 'if', 'import', 'in', 'is', 'lambda', 'nonlocal', 'not', 'or', 'pass', 'raise', 'return', 'try', 'while', 'with', 'yield']\n"
     ]
    }
   ],
   "source": [
    "import keyword\n",
    "print(keyword.kwlist)"
   ]
  },
  {
   "cell_type": "markdown",
   "metadata": {},
   "source": [
    "4. Write a program that checks if a given word is a Python keyword"
   ]
  },
  {
   "cell_type": "code",
   "execution_count": 10,
   "metadata": {},
   "outputs": [
    {
     "name": "stdout",
     "output_type": "stream",
     "text": [
      "'and' is a python keyword\n"
     ]
    }
   ],
   "source": [
    "import keyword\n",
    "a = 'and'\n",
    "if keyword.iskeyword(a):\n",
    "    print(f\"'{a}' is a python keyword\")\n",
    "else:\n",
    "    print(f\"'{a}' is not a python keyword\")\n"
   ]
  },
  {
   "cell_type": "markdown",
   "metadata": {},
   "source": [
    " 5. Create a list and tuple in Python, and demonstrate how attempting to change an element works differently \n",
    "for each?"
   ]
  },
  {
   "cell_type": "code",
   "execution_count": 11,
   "metadata": {},
   "outputs": [
    {
     "name": "stdout",
     "output_type": "stream",
     "text": [
      "['Apple', 'Banana', 'Grapes', 'Cherry']\n"
     ]
    }
   ],
   "source": [
    "list1 = ['Apple', 'Banana', 'Grapes']\n",
    "list1.append('Cherry') #used append to add the new element in the list at end\n",
    "print(list1)"
   ]
  },
  {
   "cell_type": "code",
   "execution_count": 12,
   "metadata": {},
   "outputs": [
    {
     "ename": "AttributeError",
     "evalue": "'tuple' object has no attribute 'append'",
     "output_type": "error",
     "traceback": [
      "\u001b[1;31m---------------------------------------------------------------------------\u001b[0m",
      "\u001b[1;31mAttributeError\u001b[0m                            Traceback (most recent call last)",
      "Cell \u001b[1;32mIn[12], line 2\u001b[0m\n\u001b[0;32m      1\u001b[0m tuple1\u001b[38;5;241m=\u001b[39m(\u001b[38;5;124m'\u001b[39m\u001b[38;5;124mApple\u001b[39m\u001b[38;5;124m'\u001b[39m, \u001b[38;5;124m'\u001b[39m\u001b[38;5;124mBanana\u001b[39m\u001b[38;5;124m'\u001b[39m, \u001b[38;5;124m'\u001b[39m\u001b[38;5;124mKiwi\u001b[39m\u001b[38;5;124m'\u001b[39m)\n\u001b[1;32m----> 2\u001b[0m \u001b[43mtuple1\u001b[49m\u001b[38;5;241;43m.\u001b[39;49m\u001b[43mappend\u001b[49m(\u001b[38;5;124m'\u001b[39m\u001b[38;5;124mGrapes\u001b[39m\u001b[38;5;124m'\u001b[39m)\n\u001b[0;32m      3\u001b[0m \u001b[38;5;28mprint\u001b[39m(tuple1)\n",
      "\u001b[1;31mAttributeError\u001b[0m: 'tuple' object has no attribute 'append'"
     ]
    }
   ],
   "source": [
    "tuple1=('Apple', 'Banana', 'Kiwi')\n",
    "tuple1.append('Grapes') #giving the error as tuples are immutable and cannot be changed once created.\n",
    "print(tuple1)"
   ]
  },
  {
   "cell_type": "markdown",
   "metadata": {},
   "source": [
    "6. Write a function to demonstrate the behavior of mutable and immutable argument."
   ]
  },
  {
   "cell_type": "code",
   "execution_count": 25,
   "metadata": {},
   "outputs": [
    {
     "name": "stdout",
     "output_type": "stream",
     "text": [
      "Inside Function value of immutable variable: 6\n",
      "Outside Function value of immutable variable: 5\n",
      "Before Function value of mutable variable: [1, 2, 3]\n",
      "Inside Function value of mutable variable: [1, 2, 3, 4]\n",
      "Outside Function value of mutable variable: [1, 2, 3, 4]\n"
     ]
    }
   ],
   "source": [
    "def modify_immutable(num):\n",
    "    num = num + 1\n",
    "    print(f'Inside Function value of immutable variable: {num}')\n",
    "\n",
    "def modify_mutable(my_list):\n",
    "    my_list.append(4)\n",
    "    print(f'Inside Function value of mutable variable: {my_list}')\n",
    "\n",
    "num = 5\n",
    "modify_immutable(num)\n",
    "print(f'Outside Function value of immutable variable: {num}')\n",
    "my_list = [1, 2, 3] \n",
    "print(f'Before Function value of mutable variable: {my_list}')\n",
    "modify_mutable(my_list)\n",
    "print(f'Outside Function value of mutable variable: {my_list}')\n"
   ]
  },
  {
   "cell_type": "markdown",
   "metadata": {},
   "source": [
    "8.  Write a program to demonstrate the use of logical operators."
   ]
  },
  {
   "cell_type": "code",
   "execution_count": 2,
   "metadata": {},
   "outputs": [
    {
     "name": "stdout",
     "output_type": "stream",
     "text": [
      "False\n",
      "True\n",
      "True\n",
      "True\n"
     ]
    }
   ],
   "source": [
    "x = True\n",
    "y = False\n",
    "result = x and y\n",
    "print(result)\n",
    "a = True\n",
    "b = True\n",
    "result = a and b\n",
    "print(result)\n",
    "\n",
    "x = True\n",
    "y = False\n",
    "result = x or y\n",
    "print(result)\n",
    "\n",
    "x = True\n",
    "y = False\n",
    "result = x and y\n",
    "print(not(result))"
   ]
  },
  {
   "cell_type": "markdown",
   "metadata": {},
   "source": [
    "9. Write a Python program to convert user input from string to integer, float, and boolean types"
   ]
  },
  {
   "cell_type": "code",
   "execution_count": 6,
   "metadata": {},
   "outputs": [
    {
     "name": "stdout",
     "output_type": "stream",
     "text": [
      "Entered number is:  45\n",
      "Converted to Integer:  45\n",
      "Converted to Boolean:  True\n",
      "Converted to Float:  45.0\n"
     ]
    }
   ],
   "source": [
    "int2 = input('Enter a Number: ')\n",
    "print('Entered number is: ', int2)\n",
    "num = int(int2)\n",
    "print(\"Converted to Integer: \", num)\n",
    "boolean2 = bool(int2)\n",
    "print(\"Converted to Boolean: \", boolean2)\n",
    "float2 = float(int2)\n",
    "print(\"Converted to Float: \", float2)"
   ]
  },
  {
   "cell_type": "markdown",
   "metadata": {},
   "source": [
    "10. Write code to demonstrate type casting with list elements"
   ]
  },
  {
   "cell_type": "code",
   "execution_count": 4,
   "metadata": {},
   "outputs": [
    {
     "name": "stdout",
     "output_type": "stream",
     "text": [
      "The original list is : [1, 2, 3, 4, 5]\n",
      "The list after type casting is : ['1', '2', '3', '4', '5']\n"
     ]
    }
   ],
   "source": [
    "def cast_list(demolist, data_type):\n",
    "  return list(map(data_type, demolist))\n",
    "\n",
    "demolist = [1, 2, 3, 4, 5]\n",
    "print(f\"The original list is : {demolist}\")\n",
    "\n",
    "res_list = cast_list(demolist, str)\n",
    "print(f\"The list after type casting is : {res_list}\")"
   ]
  },
  {
   "cell_type": "markdown",
   "metadata": {},
   "source": [
    "11.  Write a program that checks if a number is positive, negative, or zero"
   ]
  },
  {
   "cell_type": "code",
   "execution_count": 5,
   "metadata": {},
   "outputs": [
    {
     "name": "stdout",
     "output_type": "stream",
     "text": [
      "Entered Number is:  -33\n",
      "Entered number is negative.\n"
     ]
    }
   ],
   "source": [
    "userinput = input(\"Enter a number: \")\n",
    "print('Entered Number is: ', userinput)\n",
    "int2 = int(userinput)\n",
    "if(int2 > 0):\n",
    "  print(\"Entered number is positive.\")\n",
    "elif(int2 < 0):\n",
    "  print(\"Entered number is negative.\")\n",
    "else:\n",
    "  print(\"Entered number is zero.\")\n"
   ]
  },
  {
   "cell_type": "markdown",
   "metadata": {},
   "source": [
    "12. Write a for loop to print numbers from 1 to 10."
   ]
  },
  {
   "cell_type": "code",
   "execution_count": 2,
   "metadata": {},
   "outputs": [
    {
     "name": "stdout",
     "output_type": "stream",
     "text": [
      "1\n",
      "2\n",
      "3\n",
      "4\n",
      "5\n",
      "6\n",
      "7\n",
      "8\n",
      "9\n",
      "10\n"
     ]
    }
   ],
   "source": [
    "for i in range(1,11):\n",
    "    print(i)"
   ]
  },
  {
   "cell_type": "markdown",
   "metadata": {},
   "source": [
    "13.  Write a Python program to find the sum of all even numbers between 1 and 50."
   ]
  },
  {
   "cell_type": "code",
   "execution_count": 7,
   "metadata": {},
   "outputs": [
    {
     "name": "stdout",
     "output_type": "stream",
     "text": [
      "650\n"
     ]
    }
   ],
   "source": [
    "sum2 = 0\n",
    "for i in range(1, 51):\n",
    "    if (i % 2 == 0):\n",
    "        sum2 = i + sum2\n",
    "print(sum2)"
   ]
  },
  {
   "cell_type": "markdown",
   "metadata": {},
   "source": [
    "14. Write a program to reverse a string using a while loop"
   ]
  },
  {
   "cell_type": "code",
   "execution_count": 8,
   "metadata": {},
   "outputs": [
    {
     "name": "stdout",
     "output_type": "stream",
     "text": [
      "ladrasjarihd"
     ]
    }
   ],
   "source": [
    "name= str((input(\"Enter the name: \")))\n",
    "i = len(name) - 1\n",
    "\n",
    "while i >= 0:\n",
    "    print(name[i], end = '')\n",
    "    i = i - 1"
   ]
  },
  {
   "cell_type": "markdown",
   "metadata": {},
   "source": [
    "15. Write a Python program to calculate the factorial of a number provided by the user using a while loop"
   ]
  },
  {
   "cell_type": "code",
   "execution_count": 11,
   "metadata": {},
   "outputs": [
    {
     "name": "stdout",
     "output_type": "stream",
     "text": [
      " Factorial of entered number is:  120\n"
     ]
    }
   ],
   "source": [
    "fact = 1\n",
    "i = 1\n",
    "num = int(input(\"Enter a number: \"))\n",
    "if num < 0:\n",
    "  print(\"factorial of negative number cannot be calculated\")\n",
    "else:\n",
    "  while i <= num:\n",
    "    fact = fact * i\n",
    "    i = i + 1\n",
    "print(\" Factorial of entered number is: \", fact)\n"
   ]
  },
  {
   "cell_type": "markdown",
   "metadata": {},
   "source": []
  },
  {
   "cell_type": "markdown",
   "metadata": {},
   "source": [
    "<h3>Theoritical Questions</h3>"
   ]
  },
  {
   "cell_type": "markdown",
   "metadata": {},
   "source": [
    "<h4>1. What is Python, and why is it popular?</h4>\n",
    "\n",
    "Ans: Python is a computer programming language used to build websites, software, automate the tasks and analyze the data. \n",
    "Python is popular for its characteristics:<br>\n",
    "--> Easy to learn: Python uses a simple syntax which makes it easy for anyone to learn.<br>\n",
    "-->Flexibility: Python can be used to develop any kind of application in the industry unlike other programming languages which are domain    specific.<br>\n",
    "-->Well suited to data science and analytics: Python’s ease of use, support and flexibility have made it an essential tool for those who work with machine learning.<br>\n",
    "-->Efficient, fat and reliable: Python is efficient and reliable offers a developer to create a powerful application with minimum efforts.\n",
    "\n",
    "   "
   ]
  },
  {
   "cell_type": "markdown",
   "metadata": {},
   "source": [
    "<h4>2.\tWhat is an interpreter in python?</h4>\n",
    "\n",
    "Ans: Python interpreter is a computer program that converts any high level program statement into a machine code. An interpreter translates the command that you enter to the code that a machine can understand."
   ]
  },
  {
   "cell_type": "markdown",
   "metadata": {},
   "source": [
    "<h4>3.\tWhat are the pre-defined keywords in Python?</h4>\n",
    "\n",
    "Ans: A pre-defined keyword is a programming language has a specific word reserved for a specific task and has a definite meaning. These words has a specific meanings and that cannot be changed or used for other tasks.\n",
    "Example: for, and, from, is, return, if.\n"
   ]
  },
  {
   "cell_type": "markdown",
   "metadata": {},
   "source": [
    "<h4>4.\tCan keywords be used as variable names?</h4>\n",
    "\n",
    "Ans: No any keyword cannot be used as variable name. \n",
    "Example: \tprint = “Hello World”\n",
    "print(print)\n",
    "In above example, I’m using a print keyword a variable name to declare a string and then printing it. But the program will throw an error as 'str' object is not callable since print is a keyword and cannot be used a variable name.\n"
   ]
  },
  {
   "cell_type": "markdown",
   "metadata": {},
   "source": [
    "<h4>5.\tWhat is mutability in Python?</h4>\n",
    "\n",
    "Ans: Mutability means an ability to change object’s value after it is created.\n",
    "Example: Mutable Objects in Python are lists, dictionaries, sets etc where you can add or remove or perform any other specific operation after they are created. Immutable object in Python is Tuple where you cannot perform any operation on it once it is created. It has only two attributes count and index.\n"
   ]
  },
  {
   "cell_type": "markdown",
   "metadata": {},
   "source": [
    "<h4>6.\tWhy are lists mutable but tuples are immutable?</h4>\n",
    "\n",
    "Ans: Lists are mutable because we can perform some specific operations on it after it is created. Example: append: it will add the new element in the list at the end.<br>\n",
    "Remove: it will remove the specified element from the list.\n",
    "Tuples are immutable because we cannot perform any operation on it once they are created. It has only two attributes count, index. Tuples are used to define the values that remains the same throughout like a geographical coordinate of a specific area remains the same always.\n"
   ]
  },
  {
   "cell_type": "markdown",
   "metadata": {},
   "source": [
    "<h4>7.\tWhat is the difference between “==” and “is” operators in Python?</h4>\n",
    "\n",
    "Ans: “==” is equality operator that compares values of two objects.<br>\n",
    "“is” is an identity operator that compares whether two variables point to the same object in memory.<br>\n",
    "Example: \t\n",
    ">list1 = [1, 2, 3, 4]<br>\n",
    ">list2 = [1, 2, 3, 4]<br>\n",
    ">if(list1 == list2):<br>\n",
    ">  \t\t\tprint(\"Yes both lists are equal\")<br>\n",
    ">else:<br>\n",
    ">print(\"No, both lists are not equal\")<br>\n",
    "Output: Yes both lists are equal<br>\n",
    "\tExample 2: \tlist1 = [1, 2, 3, 4]<br>\n",
    "list2 = [1, 2, 3, 4]<br>\n",
    "list3 = list1<br>\n",
    "if list1 is list3:<br>\n",
    "  print(\"Yes Both are equal\")<br>\n",
    "else:<br>\n",
    "    print(\"No both are not equal\")<br>\n",
    "Output: Yes both lists are equal\n"
   ]
  },
  {
   "cell_type": "markdown",
   "metadata": {},
   "source": [
    "<h4>8.\tWhat are the logical operators in Python?</h4>\n",
    "\n",
    "Ans: Logical operators are keywords that elevates conditions in expressions. Also known as Boolean operators.<br>\n",
    "E.g. \tand : Returns True if both the conditions are True<br>\n",
    "\tOr: Returns True if either the condition is True<br>\n",
    "\tNot: Reverses the result, returns False if result in True<br>\n",
    ">•\tX = 5<br>\n",
    "Y = 7<br>\n",
    "Z = X < Y and Y > X <br>\n",
    "print(Z)<br>\n",
    "Output: True<br>\n",
    "•\tA = 3<br>\n",
    "B = 2<br>\n",
    "C = A < B or B < A<br>\n",
    "print(C)<br>\n",
    "Output: True<br>\n",
    "•\tA = 4<br>\n",
    "B = 3<br>\n",
    "C = not(A < B or B > A)<br>\n",
    "print(C)<br>\n",
    "Output: True<br>\n",
    "\n"
   ]
  },
  {
   "cell_type": "markdown",
   "metadata": {},
   "source": [
    "<h4>9.\tWhat is type casting in Python?</h4>\n",
    "\n",
    "Ans: Type casting in Python means changing a variable’s data type to another data type.\n",
    "Two types of type casting: Implicit type casting and Explicit type casting\n"
   ]
  },
  {
   "cell_type": "markdown",
   "metadata": {},
   "source": [
    "<h4>10.\tWhat is the difference between implicit and explicit type casting?</h4>\n",
    "\n",
    "Implicit type casting: Python automatically converts data type from one to other without any explicit instruction from programmer.<br>\n",
    "Explicit type casting: Use of predefined functions such as float(), int() etc. to convert an object’s data type to your required data type.\n"
   ]
  },
  {
   "cell_type": "markdown",
   "metadata": {},
   "source": [
    "<h4>11.\tWhat is the purpose of conditional statements in Python?</h4>\n",
    "\n",
    "Ans: Conditional statement in Python are used to control the flow of a program only of the certain condition is met.<br>\n",
    "E.g. if statement and elif (else if) statement.\n"
   ]
  },
  {
   "cell_type": "markdown",
   "metadata": {},
   "source": [
    "<h4>12.\tHow does the elif statement work?</h4>\n",
    "\n",
    "Ans: elif statement is used to check multiple condition in conditional statements.<br>\n",
    "The “if ” condition is executed first. If the “if” condition is false “elif” condition is executed and if the “elif” condition if false “else” condition id executed.<br>\n",
    "E.g.<br> \n",
    ">int1 = 35<br>\n",
    ">int2 = 35<br>\n",
    ">if(int1 > int2):<br>\n",
    " >print(f'{int1} is greater than {int2}')<br>\n",
    ">elif (int1 < int2):<br>\n",
    " > print(f'{int1} is smaller than {int2}')<br>\n",
    ">else:<br>\n",
    " > print(f'{int1} is equal to {int2}')<br>\n",
    "\n"
   ]
  },
  {
   "cell_type": "markdown",
   "metadata": {},
   "source": [
    "<h4>13.\tWhat is the difference between for and while loops?</h4>\n",
    "\n",
    "Ans: “For” loop is used to iterate over a sequence of items. “While” loop is used to repeatedly execute a block of statements while a condition is true."
   ]
  },
  {
   "cell_type": "markdown",
   "metadata": {},
   "source": [
    "<h4>14.\tDescribe a scenario where a while loop is more suitable than a for loop.</h4>\n",
    "\n",
    "Ans:  \n",
    "For Loop: A for loop is an iteration method that is best used when you know the number of iterations ahead of time. It’s always followed by the initialization, expression and increment statements. <br>\n",
    "While Loop: A while loop is an iteration method that is best used when you don't know the number of iterations ahead of time. The contents of the loop are executed as long as the expression evaluates to true.\n",
    "\n",
    "\n"
   ]
  },
  {
   "cell_type": "markdown",
   "metadata": {},
   "source": []
  }
 ],
 "metadata": {
  "kernelspec": {
   "display_name": "Python 3",
   "language": "python",
   "name": "python3"
  },
  "language_info": {
   "codemirror_mode": {
    "name": "ipython",
    "version": 3
   },
   "file_extension": ".py",
   "mimetype": "text/x-python",
   "name": "python",
   "nbconvert_exporter": "python",
   "pygments_lexer": "ipython3",
   "version": "3.13.1"
  }
 },
 "nbformat": 4,
 "nbformat_minor": 2
}
