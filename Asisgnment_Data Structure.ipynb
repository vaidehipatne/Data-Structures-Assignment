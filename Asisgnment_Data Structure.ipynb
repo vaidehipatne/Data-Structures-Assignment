{
 "cells": [
  {
   "cell_type": "markdown",
   "metadata": {},
   "source": [
    "1. Write a code to create a string with your name and print it."
   ]
  },
  {
   "cell_type": "code",
   "execution_count": 1,
   "metadata": {},
   "outputs": [
    {
     "name": "stdout",
     "output_type": "stream",
     "text": [
      "Vaidehi Patne\n"
     ]
    }
   ],
   "source": [
    "name = \"Vaidehi Patne\"\n",
    "print(name)"
   ]
  },
  {
   "cell_type": "markdown",
   "metadata": {},
   "source": [
    "2.  Write a code to find the length of the string \"Hello World\""
   ]
  },
  {
   "cell_type": "code",
   "execution_count": 3,
   "metadata": {},
   "outputs": [
    {
     "name": "stdout",
     "output_type": "stream",
     "text": [
      "11\n"
     ]
    }
   ],
   "source": [
    "str1 = \"Hello World\"\n",
    "len1 = len(str1)\n",
    "print(len1)"
   ]
  },
  {
   "cell_type": "markdown",
   "metadata": {},
   "source": [
    "3. Write a code to slice the first 3 characters from the string \"Python Programming\"."
   ]
  },
  {
   "cell_type": "code",
   "execution_count": 4,
   "metadata": {},
   "outputs": [
    {
     "name": "stdout",
     "output_type": "stream",
     "text": [
      "Pyt\n"
     ]
    }
   ],
   "source": [
    "str2 = \"Python Programming\"\n",
    "a = str2[0:3]\n",
    "print(a)"
   ]
  },
  {
   "cell_type": "markdown",
   "metadata": {},
   "source": [
    "4. Write a code to convert the string \"hello\" to uppercase."
   ]
  },
  {
   "cell_type": "code",
   "execution_count": 5,
   "metadata": {},
   "outputs": [
    {
     "name": "stdout",
     "output_type": "stream",
     "text": [
      "HELLO\n"
     ]
    }
   ],
   "source": [
    "str3 = \"hello\"\n",
    "uppercase1 = str.upper(str3)\n",
    "print(uppercase1)"
   ]
  },
  {
   "cell_type": "markdown",
   "metadata": {},
   "source": [
    "5. Write a code to replace the word \"apple\" with \"orange\" in the string \"I like apple\"."
   ]
  },
  {
   "cell_type": "code",
   "execution_count": 6,
   "metadata": {},
   "outputs": [
    {
     "name": "stdout",
     "output_type": "stream",
     "text": [
      "I like Orange\n"
     ]
    }
   ],
   "source": [
    "str4 = \"I like Apple\"\n",
    "replace1 = str4.replace(\"Apple\", \"Orange\")\n",
    "print(replace1)"
   ]
  },
  {
   "cell_type": "markdown",
   "metadata": {},
   "source": [
    "6. Write a code to create a list with numbers 1 to 5 and print it."
   ]
  },
  {
   "cell_type": "code",
   "execution_count": 7,
   "metadata": {},
   "outputs": [
    {
     "name": "stdout",
     "output_type": "stream",
     "text": [
      "[1, 2, 3, 4, 5]\n"
     ]
    }
   ],
   "source": [
    "lst1 = [1, 2, 3, 4, 5]\n",
    "print(lst1)"
   ]
  },
  {
   "cell_type": "markdown",
   "metadata": {},
   "source": [
    "7.  Write a code to append the number 10 to the list [1, 2, 3, 4]"
   ]
  },
  {
   "cell_type": "code",
   "execution_count": 14,
   "metadata": {},
   "outputs": [
    {
     "name": "stdout",
     "output_type": "stream",
     "text": [
      "[1, 2, 3, 4, 10]\n"
     ]
    }
   ],
   "source": [
    "lst2 = [1, 2, 3, 4]\n",
    "lst2.append(10)\n",
    "print(lst2)"
   ]
  },
  {
   "cell_type": "markdown",
   "metadata": {},
   "source": [
    "8. Write a code to remove the number 3 from the list [1, 2, 3, 4, 5]"
   ]
  },
  {
   "cell_type": "code",
   "execution_count": 15,
   "metadata": {},
   "outputs": [
    {
     "name": "stdout",
     "output_type": "stream",
     "text": [
      "[1, 2, 4, 5]\n"
     ]
    }
   ],
   "source": [
    "lst3 = [1, 2, 3, 4, 5]\n",
    "lst3.remove(3)\n",
    "print(lst3)"
   ]
  },
  {
   "cell_type": "markdown",
   "metadata": {},
   "source": [
    "9. Write a code to access the second element in the list ['a', 'b', 'c', 'd']"
   ]
  },
  {
   "cell_type": "code",
   "execution_count": 16,
   "metadata": {},
   "outputs": [
    {
     "name": "stdout",
     "output_type": "stream",
     "text": [
      "b\n"
     ]
    }
   ],
   "source": [
    "lst4 = ['a', 'b', 'c', 'd']\n",
    "print(lst4[1])"
   ]
  },
  {
   "cell_type": "markdown",
   "metadata": {},
   "source": [
    "10. Write a code to reverse the list [10, 20, 30, 40, 50]"
   ]
  },
  {
   "cell_type": "code",
   "execution_count": 20,
   "metadata": {},
   "outputs": [
    {
     "name": "stdout",
     "output_type": "stream",
     "text": [
      "[50, 40, 30, 20, 10]\n"
     ]
    }
   ],
   "source": [
    "lst5 = [10, 20, 30, 40, 50]\n",
    "lst5.reverse()\n",
    "print(lst5)"
   ]
  },
  {
   "cell_type": "markdown",
   "metadata": {},
   "source": [
    "11. Write a code to create a tuple with the elements 10, 20, 30 and print it. "
   ]
  },
  {
   "cell_type": "code",
   "execution_count": 21,
   "metadata": {},
   "outputs": [
    {
     "name": "stdout",
     "output_type": "stream",
     "text": [
      "(10, 20, 30)\n"
     ]
    }
   ],
   "source": [
    "my_tuple = (10, 20, 30)\n",
    "print(my_tuple)"
   ]
  },
  {
   "cell_type": "markdown",
   "metadata": {},
   "source": [
    "12. Write a code to access the first element of the tuple ('apple', 'banana', 'cherry')"
   ]
  },
  {
   "cell_type": "code",
   "execution_count": 22,
   "metadata": {},
   "outputs": [
    {
     "name": "stdout",
     "output_type": "stream",
     "text": [
      "Apple\n"
     ]
    }
   ],
   "source": [
    "tuple2 = ('Apple', 'Banana', 'Cherry')\n",
    "print(tuple2[0])"
   ]
  },
  {
   "cell_type": "markdown",
   "metadata": {},
   "source": [
    "13. Write a code to count how many times the number 2 appears in the tuple (1, 2, 3, 2, 4, 2)"
   ]
  },
  {
   "cell_type": "code",
   "execution_count": 23,
   "metadata": {},
   "outputs": [
    {
     "name": "stdout",
     "output_type": "stream",
     "text": [
      "3\n"
     ]
    }
   ],
   "source": [
    "tuple3 = (1, 2, 3, 2, 4, 2)\n",
    "print(tuple3.count(2))"
   ]
  },
  {
   "cell_type": "markdown",
   "metadata": {},
   "source": [
    "14. Write a code to find the index of the element \"cat\" in the tuple ('dog', 'cat', 'rabbit')"
   ]
  },
  {
   "cell_type": "code",
   "execution_count": 24,
   "metadata": {},
   "outputs": [
    {
     "name": "stdout",
     "output_type": "stream",
     "text": [
      "1\n"
     ]
    }
   ],
   "source": [
    "tuple4 = ('Dog', 'Cat', 'Rabbit')\n",
    "print(tuple4.index('Cat'))"
   ]
  },
  {
   "cell_type": "markdown",
   "metadata": {},
   "source": [
    "15. Write a code to check if the element \"banana\" is in the tuple ('apple', 'orange', 'banana')."
   ]
  },
  {
   "cell_type": "code",
   "execution_count": 29,
   "metadata": {},
   "outputs": [
    {
     "name": "stdout",
     "output_type": "stream",
     "text": [
      "Yes, 'Banana' is in the tuple\n"
     ]
    }
   ],
   "source": [
    "tuple5 = ('Apple', 'Orange', 'Banana')\n",
    "if \"Banana\" in tuple5:\n",
    "    print(\"Yes, 'Banana' is in the tuple\")\n"
   ]
  },
  {
   "cell_type": "markdown",
   "metadata": {},
   "source": [
    "16. Write a code to create a set with the elements 1, 2, 3, 4, 5 and print it "
   ]
  },
  {
   "cell_type": "code",
   "execution_count": 30,
   "metadata": {},
   "outputs": [
    {
     "name": "stdout",
     "output_type": "stream",
     "text": [
      "{1, 2, 3, 4, 5}\n"
     ]
    }
   ],
   "source": [
    "set1 = {1, 2, 3, 4, 5}\n",
    "print(set1)"
   ]
  },
  {
   "cell_type": "markdown",
   "metadata": {},
   "source": [
    "17. Write a code to add the element 6 to the set {1, 2, 3, 4}"
   ]
  },
  {
   "cell_type": "code",
   "execution_count": 34,
   "metadata": {},
   "outputs": [
    {
     "name": "stdout",
     "output_type": "stream",
     "text": [
      "{1, 2, 3, 4, 6}\n"
     ]
    }
   ],
   "source": [
    "set2 = {1, 2, 3, 4}\n",
    "set2.add(6)\n",
    " print(set2)"
   ]
  },
  {
   "cell_type": "markdown",
   "metadata": {},
   "source": [
    "18. Write a code to remove the element 4 from the set {1, 2, 3, 4}."
   ]
  },
  {
   "cell_type": "code",
   "execution_count": 3,
   "metadata": {},
   "outputs": [
    {
     "name": "stdout",
     "output_type": "stream",
     "text": [
      "{1, 2, 3}\n"
     ]
    }
   ],
   "source": [
    "set3  = {1, 2, 3, 4}\n",
    "set3.remove(4)\n",
    "print(set3)"
   ]
  },
  {
   "cell_type": "markdown",
   "metadata": {},
   "source": [
    "19. Write a code to find the union of two sets {1, 2, 3} and {3, 4, 5}."
   ]
  },
  {
   "cell_type": "code",
   "execution_count": 4,
   "metadata": {},
   "outputs": [
    {
     "name": "stdout",
     "output_type": "stream",
     "text": [
      "{1, 2, 3, 4, 5}\n"
     ]
    }
   ],
   "source": [
    "set1 = {1, 2, 3}\n",
    "set2 = {3, 4, 5}\n",
    "print(set1.union(set2))"
   ]
  },
  {
   "cell_type": "markdown",
   "metadata": {},
   "source": [
    "20. Write a code to find the intersection of two sets {1, 2, 3} and {2, 3, 4}."
   ]
  },
  {
   "cell_type": "code",
   "execution_count": 5,
   "metadata": {},
   "outputs": [
    {
     "name": "stdout",
     "output_type": "stream",
     "text": [
      "{2, 3}\n"
     ]
    }
   ],
   "source": [
    "set1 = {1, 2, 3}\n",
    "set2 = {2, 3, 4}\n",
    "print(set1.intersection(set2))"
   ]
  },
  {
   "cell_type": "markdown",
   "metadata": {},
   "source": [
    "21. Write a code to create a dictionary with the keys \"name\", \"age\", and \"city\", and print it."
   ]
  },
  {
   "cell_type": "code",
   "execution_count": 6,
   "metadata": {},
   "outputs": [
    {
     "name": "stdout",
     "output_type": "stream",
     "text": [
      "{'name': 'Vaidehi', 'Age': 31, 'City': 'Thane'}\n"
     ]
    }
   ],
   "source": [
    "dictionary1 = {'name': \"Vaidehi\", 'Age' : 31, 'City': 'Thane'}\n",
    "print(dictionary1)"
   ]
  },
  {
   "cell_type": "markdown",
   "metadata": {},
   "source": [
    "22. Write a code to add a new key-value pair \"country\": \"USA\" to the dictionary {'name': 'John', 'age': 25}"
   ]
  },
  {
   "cell_type": "code",
   "execution_count": 7,
   "metadata": {},
   "outputs": [
    {
     "name": "stdout",
     "output_type": "stream",
     "text": [
      "{'name': 'John', 'age': 25, 'Country': 'USA'}\n"
     ]
    }
   ],
   "source": [
    "dictionary2 = {'name': 'John', 'age': 25}\n",
    "dictionary2['Country'] = 'USA'\n",
    "print(dictionary2)"
   ]
  },
  {
   "cell_type": "markdown",
   "metadata": {},
   "source": [
    "23. Write a code to access the value associated with the key \"name\" in the dictionary {'name': 'Alice', 'age': 30}."
   ]
  },
  {
   "cell_type": "code",
   "execution_count": 8,
   "metadata": {},
   "outputs": [
    {
     "name": "stdout",
     "output_type": "stream",
     "text": [
      "Alice\n"
     ]
    }
   ],
   "source": [
    "dictionary3 = {'name': 'Alice', 'age': 30}\n",
    "print(dictionary3['name'])"
   ]
  },
  {
   "cell_type": "markdown",
   "metadata": {},
   "source": [
    "24.  Write a code to remove the key \"age\" from the dictionary {'name': 'Bob', 'age': 22, 'city': 'New York'}."
   ]
  },
  {
   "cell_type": "code",
   "execution_count": 9,
   "metadata": {},
   "outputs": [
    {
     "name": "stdout",
     "output_type": "stream",
     "text": [
      "{'name': 'Bob', 'city': 'New York'}\n"
     ]
    }
   ],
   "source": [
    "dictionary4 = {'name': 'Bob', 'age': 22, 'city': 'New York'}\n",
    "dictionary4.pop('age')\n",
    "print(dictionary4)"
   ]
  },
  {
   "cell_type": "markdown",
   "metadata": {},
   "source": [
    "25. Write a code to check if the key \"city\" exists in the dictionary {'name': 'Alice', 'city': 'Paris'}."
   ]
  },
  {
   "cell_type": "code",
   "execution_count": 10,
   "metadata": {},
   "outputs": [
    {
     "name": "stdout",
     "output_type": "stream",
     "text": [
      "Yes,City exists in the Dictionary\n"
     ]
    }
   ],
   "source": [
    "ictionary5 = {'name': 'Alice', 'city': 'Paris'}\n",
    "dictionary5 = {'name': 'Alice', 'city': 'Paris'}\n",
    "if 'city' in dictionary5:\n",
    "  print('Yes,City exists in the Dictionary')\n",
    "else:\n",
    "  print('No, City does not exist in dictionary')\n"
   ]
  },
  {
   "cell_type": "markdown",
   "metadata": {},
   "source": [
    "26. Write a code to create a list, a tuple, and a dictionary, and print them all."
   ]
  },
  {
   "cell_type": "code",
   "execution_count": 11,
   "metadata": {},
   "outputs": [
    {
     "name": "stdout",
     "output_type": "stream",
     "text": [
      "['Apple', 'Banana', 'Grapes']\n",
      "('Udiapur', 'Jaipur', 'Jodhpur')\n",
      "{'Name': 'Vaidehi', 'Age': 31, 'City': 'Mumbai'}\n"
     ]
    }
   ],
   "source": [
    "list2 =['Apple', 'Banana', 'Grapes']\n",
    "tuple2 = ('Udiapur', 'Jaipur', 'Jodhpur')\n",
    "dictionary7 ={'Name': 'Vaidehi', 'Age': 31, 'City': 'Mumbai'}\n",
    "print(list2)\n",
    "print(tuple2)\n",
    "print(dictionary7)"
   ]
  },
  {
   "cell_type": "markdown",
   "metadata": {},
   "source": [
    " 27. Write a code to create a list of 5 random numbers between 1 and 100, sort it in ascending order, and print the result.(replaced)"
   ]
  },
  {
   "cell_type": "code",
   "execution_count": 12,
   "metadata": {},
   "outputs": [
    {
     "name": "stdout",
     "output_type": "stream",
     "text": [
      "[10, 20, 55, 89, 92]\n"
     ]
    }
   ],
   "source": [
    "list4 = [10, 20, 55, 89, 92]\n",
    "list4.sort()\n",
    "print(list4)"
   ]
  },
  {
   "cell_type": "markdown",
   "metadata": {},
   "source": [
    "28. Write a code to create a list with strings and print the element at the third index."
   ]
  },
  {
   "cell_type": "code",
   "execution_count": 13,
   "metadata": {},
   "outputs": [
    {
     "name": "stdout",
     "output_type": "stream",
     "text": [
      "China\n"
     ]
    }
   ],
   "source": [
    "list5 = [\"India\", \"Japan\", \"USA\", \"China\", \"Hong Kong\", \"Korea\"]\n",
    "print(list5[3])"
   ]
  },
  {
   "cell_type": "markdown",
   "metadata": {},
   "source": [
    "29. Write a code to combine two dictionaries into one and print the result."
   ]
  },
  {
   "cell_type": "code",
   "execution_count": 14,
   "metadata": {},
   "outputs": [
    {
     "name": "stdout",
     "output_type": "stream",
     "text": [
      "{'Name': 'Vaidehi', 'Surname': 'Patne', 'City': 'Mumbai', 'Age': 31, 'Occupation': 'Job'}\n"
     ]
    }
   ],
   "source": [
    "dictionary1 ={'Name': 'Vaidehi', 'Surname': 'Patne', 'City': 'Mumbai'}\n",
    "dictionary2={'Age': 31, 'Occupation': 'Job'}\n",
    "dictionary1.update(dictionary2)\n",
    "print(dictionary1)"
   ]
  },
  {
   "cell_type": "markdown",
   "metadata": {},
   "source": [
    "30. Write a code to convert a list of strings into a set"
   ]
  },
  {
   "cell_type": "code",
   "execution_count": 15,
   "metadata": {},
   "outputs": [
    {
     "name": "stdout",
     "output_type": "stream",
     "text": [
      "{'Cherry', 'Grapes', 'Apple', 'Banana'}\n"
     ]
    }
   ],
   "source": [
    "string_list=['Apple','Banana', 'Cherry', 'Grapes']\n",
    "string_set = set(string_list)\n",
    "print(string_set)"
   ]
  },
  {
   "cell_type": "markdown",
   "metadata": {},
   "source": [
    "<h1>Theoretical questions<h1>"
   ]
  },
  {
   "cell_type": "markdown",
   "metadata": {},
   "source": [
    "<h3>1. What are data structures, and why are they important</h3>\n",
    "Ans: Data Structures are the way of organizing the data that can be easily accessed.\n",
    "Types: List, Tuple, Dictionary, Set, \n",
    "List: Mutable, changeable, ordered sequence of data.\n",
    "Tuple: Immutable e.g. geographical coordinates  \n",
    "Dictionary: stores data in key – value pair. E.g. my_dict1 = { “Name“: “Vaidehi“, “Age“: 30} etc.\n",
    "Set: used to store multiple items in single variable. Unordered, unindexed, unchangeable."
   ]
  },
  {
   "cell_type": "markdown",
   "metadata": {},
   "source": [
    "<h3>2. Explain the difference between mutable and immutable data types with examples</h3>\n",
    "Ans: The major difference between mutable and immutable data types is that mutable data types are changeable, immutable data types are unchangeable.\n",
    "Mutable Data Types: List. List data types has attributes like append, remove.\n",
    "Immutable Data Types: Tuple. It has only two attributes count and index. Immutable data types cannot be altered.\n"
   ]
  },
  {
   "cell_type": "markdown",
   "metadata": {},
   "source": [
    "<h3>3. What are the main differences between lists and tuples in Python</h3>\n",
    "\n",
    "|List|Tuple|\n",
    "|:-------|------:|\n",
    "|•\tMutable\t|•\tImmutable|\n",
    "|•\tAttributes like append, remove\t|•\tOnly two attributes count, index|\n",
    "|•\tList is created using []\t|•\tTuple is created using ()|\n"
   ]
  },
  {
   "cell_type": "markdown",
   "metadata": {},
   "source": [
    "<h3>4. Describe how dictionaries store data</h3>\n",
    "Dictionaries store data in a key: value pair.\n",
    "For e.g. dictionary1 = {\"Name\":\"Vaidehi\", \"Age\": 31, \"Surname\":\"Patne\"}\n",
    "\n",
    "Output = {'Name': 'Vaidehi', 'Age': 31, 'Surname': 'Patne'}"
   ]
  },
  {
   "cell_type": "markdown",
   "metadata": {},
   "source": [
    "<h3>5. Why might you use a set instead of a list in Python?</h3>\n",
    "\n",
    "Ans: list can store duplicate values. Set does not store duplicate values.\n"
   ]
  },
  {
   "cell_type": "markdown",
   "metadata": {},
   "source": [
    "<h3>6. What is a string in Python, and how is it different from a list?</h3>\n",
    "Ans: String is sequence of characters. Anything inside a quote is considered as string in python.\n",
    "Strings are immutable where lists are mutable."
   ]
  },
  {
   "cell_type": "markdown",
   "metadata": {},
   "source": [
    "<h3>7. How do tuples ensure data integrity in Python?</h3>\n",
    "\n",
    "Tuples are immutable so you cannot update or change any value inside tuple so it helps in maintaining consistency and accuracy of the data."
   ]
  },
  {
   "cell_type": "markdown",
   "metadata": {},
   "source": [
    "<h3>9. Can lists contain different data types in Python?</h3>\n",
    "\n",
    "Ans: Yes, lists contain different data types. \n",
    "E.g. list1 = [1, 2, 3, ‘a’, ‘b’]\n",
    "Print(list1)\n",
    "Output : [1 , 2, 3, a, b] "
   ]
  },
  {
   "cell_type": "markdown",
   "metadata": {},
   "source": [
    "<h3>10. Explain why strings are immutable in Python?</h3>\n",
    "\n",
    "Ans: To maintain the integrity of the data strings in python are immutable.\n",
    "E.g. A string contains password and if it is altered the value will not work."
   ]
  },
  {
   "cell_type": "markdown",
   "metadata": {},
   "source": [
    "<h3>11. What advantages do dictionaries offer over lists for certain tasks?</h3>\n",
    "Ans: Fast access: Dictionaries provide fast access to values based on their keys. \n",
    "Dynamic size: Dictionaries can be easily resized as needed. \n",
    "Flexible: Dictionaries can store any type of data as both the key and the value. \n",
    "Memory efficient: Dictionaries only store the key-value pairs that are needed. \n",
    "Easy to use: Dictionaries are easy to use and manipulate in Python. "
   ]
  },
  {
   "cell_type": "markdown",
   "metadata": {},
   "source": [
    "<h3>12. Describe a scenario where using a tuple would be preferable over a list.</h3>\n",
    "\n",
    "Ans: Tuple is an immutable collection where elements cannot change after creation. Example is to display the geographical coordinates of a place on map. In this case a tuple is supposed to be used as the geographical coordinates will never change. So using tuple over list is preferable. "
   ]
  },
  {
   "cell_type": "markdown",
   "metadata": {},
   "source": [
    "<h3>13. How do sets handle duplicate values in Python?</h3>\n",
    "\n",
    "Ans: Sets do not store duplicate values.\n",
    "E.g. set1 = {1, 2, 3, 2, 4}\n",
    "Print(set1)\n",
    "Output: {1, 2, 3, 4}"
   ]
  },
  {
   "cell_type": "markdown",
   "metadata": {},
   "source": [
    "<h3>14. How does the “in” keyword work differently for lists and dictionaries?</h3>\n",
    "\n",
    "Ans: for lists in keyword is used to check if the mentioned value exists in list.\n",
    "\n",
    "E.g. \tlist1 = ['A', 'B', 'C', 'D']\n",
    "\n",
    "if 'A' in list1:\n",
    "\n",
    "print('A is present in the list')\n",
    "\n",
    "For Dictionaries in keyword is used to check if the key is present in the dictionary.\n",
    "\n",
    "E.g.\t1. dict2 = {'name' : 'Vaidehi', 'Age' : 30, 'Gender' : 'Female'}\n",
    "\n",
    "if 'name' in dict2:\n",
    "\n",
    " print('Yes')\n",
    "\n",
    "Output: Yes\n",
    "\n",
    "2. dict2 = {'name' : 'Vaidehi', 'Age' : 30, 'Gender' : 'Female'}\n",
    "\n",
    "if ‘Vaidehi’ in dict2:\n",
    "\n",
    " print('Yes')\n",
    "\n",
    "above snippet will not return any output as in keyword in dictionary checks only the key is present or not."
   ]
  },
  {
   "cell_type": "markdown",
   "metadata": {},
   "source": [
    "<h3>15. Can you modify the elements of a tuple? Explain why or why not?</h3>\n",
    "\n",
    "Ans: Tuples are immutable. You cannot modify the elements of a tuple.\n",
    "Tuples have no attributes to modify the same."
   ]
  },
  {
   "cell_type": "markdown",
   "metadata": {},
   "source": [
    "<h3>16. What is a nested dictionary, and give an example of its use case?</h3>\n",
    "\n",
    "Ans: Nested dictionary is a dictionary that contains many other dictionaries.\n",
    "\n",
    "E.g. myfamily = {\n",
    "\n",
    "'Mom': {'Name': 'Neha', 'Age': '55'},\n",
    "\n",
    "'Dad':{'Name': 'Bhalchandra', 'Age': '65'},\n",
    "\n",
    "'Brother':  {'Name': 'Omkar', 'Age': '25'},\n",
    "\n",
    "'Husband': {'Name': 'Dhiraj', 'Age': '30'}  }               \n",
    "\n",
    "print(myfamily[\"Husband\"][\"Name\"])\n",
    "\n",
    "Output: Dhiraj"
   ]
  },
  {
   "cell_type": "markdown",
   "metadata": {},
   "source": [
    "<h3>17. Describe the time complexity of accessing elements in a dictionary</h3>\n",
    "\n",
    "Ans: Python dictionaries provide fast and efficient way to store and retrieve the data in the form\n",
    "of key: value pair.\n",
    "The time complexity of inserting a new element into a Python dictionary is typically O(1). This\n",
    "means that the time taken to insert an element into a dictionary is constant, regardless of the\n",
    "size of the dictionary.\n",
    "Similar to the insertion operation, dictionary lookups in Python also have an average time\n",
    "complexity of O(1). This means that, on average, the time taken to retrieve an element from a\n",
    "dictionary is constant and does not depend on the size of the dictionary."
   ]
  },
  {
   "cell_type": "markdown",
   "metadata": {},
   "source": [
    "<h3>18. In what situations are lists preferred over dictionaries?</h3>\n",
    "\n",
    "Ans: Ans: If you need an ordered collection like user actions or sequence one should use a list and if\n",
    "you need a faster lookups one should use dictionaries."
   ]
  },
  {
   "cell_type": "markdown",
   "metadata": {},
   "source": [
    "<h3>19. Why are dictionaries considered unordered, and how does that affect data retrieval?</h3>\n",
    "Ans: Dictionary is a data structure which is an important value structure, optimized for fast\n",
    "storage and recovery based on key. In python, dictionaries are un-ordered because Python\n",
    "dictionaries are not intended to be in order. If we want to collect a set of objects in order, we\n",
    "have only one choice of accessing them, through index."
   ]
  },
  {
   "cell_type": "markdown",
   "metadata": {},
   "source": [
    "<h3>20. Explain the difference between a list and a dictionary in terms of data retrieval.</h3>\n"
   ]
  },
  {
   "cell_type": "markdown",
   "metadata": {},
   "source": [
    "|List|Dictionaries|\n",
    "|:-------|------:|\n",
    "|•\tA list is an ordered collection of items |•\tA dictionary is an unordered data collection in a key: value pair| \n",
    "|•\tElements from the list can be accessed using the index|•\tElements of the dictionary can be accessed using keys|\n",
    "|•\tThe list allows duplicate items |•\tThe dictionary does not allow any duplicate keys|\n"
   ]
  }
 ],
 "metadata": {
  "kernelspec": {
   "display_name": "Python 3",
   "language": "python",
   "name": "python3"
  },
  "language_info": {
   "codemirror_mode": {
    "name": "ipython",
    "version": 3
   },
   "file_extension": ".py",
   "mimetype": "text/x-python",
   "name": "python",
   "nbconvert_exporter": "python",
   "pygments_lexer": "ipython3",
   "version": "3.13.1"
  }
 },
 "nbformat": 4,
 "nbformat_minor": 2
}
